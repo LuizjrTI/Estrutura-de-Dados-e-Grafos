{
 "cells": [
  {
   "cell_type": "markdown",
   "metadata": {},
   "source": [
    "# Estrutura de Dados e Algoritmos em Python: O Guia Completo\n"
   ]
  },
  {
   "cell_type": "markdown",
   "metadata": {},
   "source": [
    "# <h2>Programação básica em Python</h2>"
   ]
  },
  {
   "cell_type": "markdown",
   "metadata": {},
   "source": [
    "# <h3>Exercicio 1</h3>"
   ]
  },
  {
   "cell_type": "markdown",
   "metadata": {},
   "source": [
    "<p>1)Ler dois números inteiros, executar e mostrar o resultado das seguintes operações: adição, subtração, multiplicação e divisão</p>\n",
    "\n",
    "<p>2)Efetuar o cálculo da quantidade de litros de combustível gasto em uma viagem, utilizando um automóvel que faz 12 Km por litro. Para obter o cálculo, o usuário deve fornecer o tempo gasto na viagem e a velocidade média durante ela. Desta forma, será possível obter a distância percorrida com a fórmula DISTANCIA = TEMPO * VELOCIDADE. Tendo o valor da distância, basta calcular a quantidade de litros de combustível utilizada na viagem, com a fórmula: LITROS_USADOS = DISTANCIA / 12. O programa deve apresentar os valores da velocidade média, tempo gasto na viagem, a distância percorrida e a quantidade de litros utilizada na viagem</p>"
   ]
  },
  {
   "cell_type": "code",
   "execution_count": null,
   "metadata": {},
   "outputs": [],
   "source": [
    "num1 = int(input('Digite um número inteiro: '))\n",
    "num2 = int(input('Digite um número inteiro: '))\n",
    "print(f\"A soma é : {num1 + num2}\")\n",
    "print(f\"A subtração é : {num1 - num2}\")\n",
    "print(f\"A multiplicação é: {num1 * num2}\")\n",
    "print(f\"A divisão é: {round(num1 / num2,2)}\")\n"
   ]
  },
  {
   "cell_type": "code",
   "execution_count": null,
   "metadata": {},
   "outputs": [],
   "source": [
    "tempo_gasto = int(input(\"Digite o tempo gasto em horas: \"))\n",
    "velocidade_media = int(input(\"Digite sua velocidade media em km\\h\"))\n",
    "\n",
    "distancia = tempo_gasto * velocidade_media\n",
    "litros_usados = distancia/12\n",
    "\n",
    "print(f\"Velociade média = {velocidade_media}\")\n",
    "print(f\"Tempo gasto na viagem = {tempo_gasto}\")\n",
    "print(f\"Distância percorrida = {distancia}\")\n",
    "print(f\"Quantidade de litros = {round(litros_usados,2)}\")"
   ]
  },
  {
   "cell_type": "markdown",
   "metadata": {},
   "source": [
    "# <h3>Exercicio 2</h3>"
   ]
  },
  {
   "cell_type": "markdown",
   "metadata": {},
   "source": [
    "<p>1)Leia a idade do usuário e classifique-o em:\n",
    "    <ol>\n",
    "        <li>Criança – 0 a 12 anos</li>\n",
    "        <li>Adolescente – 13 a 17 anos</li>\n",
    "        <li>Adulto – acima de 18 anos</li>\n",
    "    </ol>\n",
    "\n",
    "   Se o usuário digitar um número negativo, mostrar a mensagem que a idade é inválida \n",
    " </p>\n",
    "\n",
    "<p>2)Calcular a média de um aluno que cursou a disciplina de Programação I, a partir da leitura das notas M1, M2 e M3; passando por um cálculo da média aritmética. Após a média calculada, devemos anunciar se o aluno foi aprovado, reprovado ou pegou exame\n",
    "- Se a média estiver entre 0.0 e 4.0, o aluno está reprovado\n",
    "- Se a média estiver entre 4.1 e 6.0, o aluno pegou exame\n",
    "- Se a média for maior do que 6.0, o aluno está aprovado\n",
    "- Se o aluno pegou exame, deve ser lida a nota do exame. Se a nota do exame for maior do que 6.0, está aprovado, senão; está reprovado</p>"
   ]
  },
  {
   "cell_type": "code",
   "execution_count": null,
   "metadata": {},
   "outputs": [],
   "source": [
    "sua_idade  = int (input(\"Digite sua idade: \"))\n",
    "\n",
    "if sua_idade < 0:\n",
    "    print(\"Idade fornecida é invalida\")\n",
    "elif (sua_idade > 0 and sua_idade <= 12):\n",
    "    print(\"Criança\")\n",
    "elif (sua_idade > 12 and sua_idade <=17):\n",
    "    print(\"Adolecente\")\n",
    "elif(sua_idade >= 18):\n",
    "    print(\"Adulto\")"
   ]
  },
  {
   "cell_type": "code",
   "execution_count": null,
   "metadata": {},
   "outputs": [],
   "source": [
    "m1 = float(input(\"Digite a nota 1: \"))\n",
    "m2 = float(input(\"Digite a nota 2: \"))\n",
    "m3 = float(input(\"Digite a nota 3: \"))\n",
    "\n",
    "if(m1<0 or m2<0 or m3<0):\n",
    "    print(\"nota invalida\")\n",
    "aluno_pegou_o_exame = False\n",
    "media_aritmética = (m1+m2+m3)/3\n",
    "\n",
    "if(media_aritmética >=0 and media_aritmética <=4):\n",
    "    print(\"Reprovado\")\n",
    "elif(media_aritmética>=4.1 and media_aritmética<=6):\n",
    "    aluno_pegou_o_exame = True\n",
    "    print(\"Aluno pegou Exame\")\n",
    "elif(media_aritmética > 6):\n",
    "    print(\"Aprovado\")\n",
    "    \n",
    "if(aluno_pegou_o_exame):\n",
    "    nota_do_exame = float(input(\"Digite a nota do exame: \"))\n",
    "    if(nota_do_exame>=6):\n",
    "        print(\"Aprovado\")\n",
    "    else:\n",
    "        print(\"Reprovado\")\n",
    "    \n"
   ]
  },
  {
   "cell_type": "markdown",
   "metadata": {},
   "source": [
    "# <h3>Exercicio 3</h3>"
   ]
  },
  {
   "cell_type": "markdown",
   "metadata": {},
   "source": [
    "<p>1) Ler 5 notas e informar a média</p>\n",
    "\n",
    "<p>2) Imprimir a tabuada do número 3 (3 x 1 = 1 - 3 x 10 = 30)</p>"
   ]
  },
  {
   "cell_type": "code",
   "execution_count": null,
   "metadata": {},
   "outputs": [],
   "source": [
    "cont = 1\n",
    "soma = 0\n",
    "while(cont < 6):\n",
    "    nota = float(input(f\"Digite a nota {cont}°: \"))\n",
    "    if(nota >= 0):\n",
    "        soma =  soma + nota\n",
    "        cont = cont +1\n",
    "    else:\n",
    "        print(\"Digite um valor acima de 0\")\n",
    "        \n",
    "print(f\"A média das notas é: {soma/(cont-1)}\")"
   ]
  },
  {
   "cell_type": "code",
   "execution_count": null,
   "metadata": {},
   "outputs": [],
   "source": [
    "print(\"\\tTabuada\\n\")\n",
    "multiplicador = int(input(\"Digite o multiplicador: \"))\n",
    "\n",
    "for numeral in range(11):\n",
    "    print(f\"{numeral} x {multiplicador} = {numeral*multiplicador}\")"
   ]
  },
  {
   "cell_type": "markdown",
   "metadata": {},
   "source": [
    "# <h3>Exercício 4</h3>"
   ]
  },
  {
   "cell_type": "markdown",
   "metadata": {},
   "source": [
    "<p>1) Lista: Crie uma estrutura de repetição para fazer a leitura de 5 números inteiros e os armazene dentro de uma lista. Após a leitura, crie outra estrutura de repetição para somar todos os valores digitados</p>\n",
    "\n",
    "\n",
    "\n",
    "<p>2) Dicionário: Crie um dicionário para armazenar o nome e a nota de 3 alunos, fazendo a leitura dos valores por meio de uma estrutura de repetição. Depois, crie uma nova estrutura de repetição para somar todas as notas e retornar a média</p>\n",
    "\n",
    "\n",
    "\n",
    "<p>3) Matriz: Dada a matriz abaixo, construa uma estrutura de repetição para percorrer e somar todos os elementos da matriz\n",
    "\n",
    "matriz = np.array([[3, 4, 1],\n",
    "                   [3, 1, 5]])</p>"
   ]
  },
  {
   "cell_type": "code",
   "execution_count": null,
   "metadata": {},
   "outputs": [],
   "source": [
    "cont = 0\n",
    "soma = 0\n",
    "lista_de_numeros = []\n",
    "while cont < 5:\n",
    "    numeros = int(input(\"Digite uma sequencia de numeros inteiros: \"))\n",
    "    lista_de_numeros.append(numeros)\n",
    "    cont = cont + 1\n",
    "    \n",
    "for lista in range(len(lista_de_numeros)):\n",
    "    soma = soma + lista_de_numeros[lista]\n",
    "print(f\"A soma total é {soma}\")"
   ]
  },
  {
   "cell_type": "code",
   "execution_count": null,
   "metadata": {},
   "outputs": [],
   "source": [
    "cont  =  0\n",
    "alunos = {}\n",
    "\n",
    "while cont < 3:\n",
    "    nome_aluno = input(\"Digite o nome do aluno: \")\n",
    "    soma = 0\n",
    "    cont_nota = 1\n",
    "    while cont_nota < 5:\n",
    "        nota = int(input(f\"Digite a nota do {cont_nota}° bimestre: \"))\n",
    "        soma = soma + nota\n",
    "        cont_nota = cont_nota + 1 \n",
    "    media = soma/(cont_nota-1)     \n",
    "    alunos[nome_aluno] = media\n",
    "    cont = cont + 1\n",
    "print(alunos)"
   ]
  },
  {
   "cell_type": "code",
   "execution_count": null,
   "metadata": {},
   "outputs": [],
   "source": [
    "import numpy as np\n",
    "\n",
    "\n",
    "matriz = np.array([[3, 4, 1],\n",
    "                   [3, 1, 5]])\n",
    "soma = 0\n",
    "\n",
    "for linha in range(matriz.shape[0]):\n",
    "    for coluna in range(matriz.shape[1]):\n",
    "        soma = soma + matriz[linha][coluna]\n",
    "print(soma)\n"
   ]
  },
  {
   "cell_type": "markdown",
   "metadata": {},
   "source": [
    "<h3> Exercicio 5 </h3>"
   ]
  },
  {
   "cell_type": "markdown",
   "metadata": {},
   "source": [
    "<p>1) Ler uma temperatura em graus Celsius e apresentá-la convertida em graus Fahrenheit. A fórmula de conversão é F = (9 * C + 160) / 5, na qual F é a temperatura em Fahrenheit e C é a temperatura em graus Celsius\n",
    "<li> Função para ler e retorna o valor da temperatura (não recebe parâmetro)</li>\n",
    "<li> Função para fazer o cálculo (recebe como parâmetro a temperatura em graus Celsius)</li>\n",
    "<li> Função para mostrar o resultado, recebendo como parâmetro o valor e fazendo a impressão</li>\n",
    "</p>\n",
    "\n",
    "\n",
    "<p>2) Efetuar o cálculo da quantidade de litros de combustível gasto em uma viagem, utilizando um automóvel que faz 12 Km por litro. Para obter o cálculo, o usuário deve fornecer o tempo gasto na viagem e a velocidade média durante ela. Desta forma, será possível obter a distância percorrida com a fórmula DISTANCIA = TEMPO * VELOCIDADE. Tendo o valor da distância, basta calcular a quantidade de litros de combustível utilizada na viagem, com a fórmula: LITROS_USADOS = DISTANCIA / 12. O programa deve apresentar os valores da velocidade média, tempo gasto na viagem, a distância percorrida e a quantidade de litros utilizada na viagem\n",
    "<li> Função para ler os valores (não recebe parâmetro e retorna os dois valores)</li>\n",
    "<li> Função para calcular a distância (recebe como parâmetro o tempo e a velocidade e retorna a distância)</li>\n",
    "<li> Função para calcular a quantidade de litros (recebe como parâmetro a distância e retorna os litros)</li>\n",
    "<li> Função para apresentar o resultado (recebe como parâmetro os valores e somente imprime o resultado)</li></p>"
   ]
  },
  {
   "cell_type": "code",
   "execution_count": null,
   "metadata": {},
   "outputs": [],
   "source": [
    "def conversor_de_Celsius_para_Fahrenheit(Temperatura):\n",
    "    Fahrenheit = (9*Temperatura+160)/5\n",
    "    print(Fahrenheit)\n",
    "\n",
    "Temperatura_Celsius = float(input(\"Digite o valor da temperatura em Celsius: \"))\n",
    "conversor_de_Celsius_para_Fahrenheit(Temperatura_Celsius)"
   ]
  },
  {
   "cell_type": "code",
   "execution_count": null,
   "metadata": {},
   "outputs": [],
   "source": [
    "def receberValores():\n",
    "    tempo_gasto_em_horas = float(input(\"Digite a quantidade de horas gastas na viagem: \"))\n",
    "    velocidade_media = float(input(\"Digite sua velocidade média: \"))\n",
    "    return tempo_gasto_em_horas,velocidade_media\n",
    "\n",
    "def calcularDistancia(tempo,velocidade):\n",
    "    distancia = tempo * velocidade\n",
    "    return distancia\n",
    "\n",
    "def combustivelUsado(distancia):\n",
    "    litros_usados = distancia/12\n",
    "    return litros_usados\n",
    "    \n",
    "def exibirInformações(dado):\n",
    "    print(round(dado,2))\n",
    "    \n",
    "    \n",
    "\n",
    "\n",
    "\n"
   ]
  },
  {
   "cell_type": "code",
   "execution_count": null,
   "metadata": {},
   "outputs": [],
   "source": [
    "tempo,velocidade = receberValores()\n",
    "distancia = calcularDistancia(tempo,velocidade)\n",
    "gasolina = combustivelUsado(distancia)\n",
    "exibirInformações(gasolina)\n"
   ]
  },
  {
   "cell_type": "markdown",
   "metadata": {},
   "source": [
    "<h3>Exercicio 6</h3>"
   ]
  },
  {
   "cell_type": "markdown",
   "metadata": {},
   "source": [
    "<p>Crie um arquivo .py com duas funções\n",
    " <li> Função para ler um string (recebe como parâmetro uma mensagem e retorna o que o usuário digitou)</li>\n",
    " <li>Função para ler um número float (recebe como parâmetro uma mensagem e retorna o que o usuário digitou)</li></p>"
   ]
  },
  {
   "cell_type": "code",
   "execution_count": 1,
   "metadata": {},
   "outputs": [
    {
     "name": "stdin",
     "output_type": "stream",
     "text": [
      " oi\n"
     ]
    },
    {
     "name": "stdout",
     "output_type": "stream",
     "text": [
      "oi\n"
     ]
    },
    {
     "name": "stdin",
     "output_type": "stream",
     "text": [
      " 5\n"
     ]
    },
    {
     "name": "stdout",
     "output_type": "stream",
     "text": [
      "5.0\n"
     ]
    }
   ],
   "source": [
    "#Import da lib\n",
    "\n",
    "import biblioteca as lib\n",
    "\n",
    "texto = lib.mensagem_texto()\n",
    "print(texto)\n",
    "\n",
    "numero = lib.numero_float()\n",
    "print(numero)"
   ]
  },
  {
   "cell_type": "markdown",
   "metadata": {},
   "source": [
    "<h3>Exercicio 7</h3>"
   ]
  },
  {
   "cell_type": "markdown",
   "metadata": {},
   "source": [
    "<p>Crie uma lista vazia e faça a leitura de dois valores do tipo float, colocando cada um dos valores nas primeiras posições da lista (o valor1 ficará na posição 0 da lista e o valor2 ficará na posição 1 da lista). Faça a divisão dos dois valores e trate as seguintes exceções:\n",
    "    <li> ValueError: se o usuário digitar um caracter</li>\n",
    "    <li> ZeroDivisionError: se o usuário digitar zero e ocorrer erro na divisão</li>\n",
    "    <li> IndexError: caso a divisão seja feita levando em consideração posições que não existem na lista</li>\n",
    "    <li> KeyboardInterrupt: caso o usuário interrompa a execução</li></p>"
   ]
  },
  {
   "cell_type": "code",
   "execution_count": null,
   "metadata": {},
   "outputs": [
    {
     "name": "stdin",
     "output_type": "stream",
     "text": [
      "Digite um número:  5\n",
      "Digite um número:  0\n"
     ]
    },
    {
     "name": "stdout",
     "output_type": "stream",
     "text": [
      "Não é possivel dividir por 0\n"
     ]
    },
    {
     "name": "stdin",
     "output_type": "stream",
     "text": [
      "Digite um número:  5\n",
      "Digite um número:  k\n"
     ]
    },
    {
     "name": "stdout",
     "output_type": "stream",
     "text": [
      "Valor Invalido\n"
     ]
    },
    {
     "name": "stdin",
     "output_type": "stream",
     "text": [
      "Digite um número:  5\n",
      "Digite um número:  5\n"
     ]
    },
    {
     "name": "stdout",
     "output_type": "stream",
     "text": [
      "Não é possivel dividir por 0\n"
     ]
    },
    {
     "name": "stdin",
     "output_type": "stream",
     "text": [
      "Digite um número:  5\n",
      "Digite um número:  5\n"
     ]
    },
    {
     "name": "stdout",
     "output_type": "stream",
     "text": [
      "Não é possivel dividir por 0\n"
     ]
    }
   ],
   "source": [
    "lista_numeros = []\n",
    "\n",
    "while True:\n",
    "        \n",
    "        try:\n",
    "            for i in range(2):\n",
    "                numero = float(input(\"Digite um número: \"))\n",
    "                lista_numeros.append(numero)\n",
    "                \n",
    "            resultado =lista_numeros[0]/lista_numeros[1]\n",
    "        except ValueError:\n",
    "            print(\"Valor Invalido\")\n",
    "        except ZeroDivisionError:\n",
    "            print(\"Não é possivel dividir por 0\")\n",
    "        except IndexError:\n",
    "            print(\"O Indice da matriz não é valido\")\n",
    "        except KeyboardInterrupt:\n",
    "            print(\"O usuario Interrompeu a execução\")\n",
    "        else:\n",
    "            print(f\"O resultado da divisão é: {resultado}\")\n",
    "            break"
   ]
  },
  {
   "cell_type": "code",
   "execution_count": null,
   "metadata": {},
   "outputs": [],
   "source": []
  }
 ],
 "metadata": {
  "kernelspec": {
   "display_name": "Python 3",
   "language": "python",
   "name": "python3"
  },
  "language_info": {
   "codemirror_mode": {
    "name": "ipython",
    "version": 3
   },
   "file_extension": ".py",
   "mimetype": "text/x-python",
   "name": "python",
   "nbconvert_exporter": "python",
   "pygments_lexer": "ipython3",
   "version": "3.7.3"
  }
 },
 "nbformat": 4,
 "nbformat_minor": 4
}
