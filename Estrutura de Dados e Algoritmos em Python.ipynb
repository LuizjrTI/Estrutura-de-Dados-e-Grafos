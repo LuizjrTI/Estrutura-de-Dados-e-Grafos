{
 "cells": [
  {
   "cell_type": "markdown",
   "metadata": {},
   "source": [
    "# Estrutura de Dados e Algoritmos em Python: O Guia Completo\n"
   ]
  },
  {
   "cell_type": "markdown",
   "metadata": {},
   "source": [
    "# <h2>Programação básica em Python</h2>"
   ]
  },
  {
   "cell_type": "markdown",
   "metadata": {},
   "source": [
    "# <h3>Exercicio 1</h3>"
   ]
  },
  {
   "cell_type": "markdown",
   "metadata": {},
   "source": [
    "<p>1)Ler dois números inteiros, executar e mostrar o resultado das seguintes operações: adição, subtração, multiplicação e divisão</p>\n",
    "\n",
    "<p>2)Efetuar o cálculo da quantidade de litros de combustível gasto em uma viagem, utilizando um automóvel que faz 12 Km por litro. Para obter o cálculo, o usuário deve fornecer o tempo gasto na viagem e a velocidade média durante ela. Desta forma, será possível obter a distância percorrida com a fórmula DISTANCIA = TEMPO * VELOCIDADE. Tendo o valor da distância, basta calcular a quantidade de litros de combustível utilizada na viagem, com a fórmula: LITROS_USADOS = DISTANCIA / 12. O programa deve apresentar os valores da velocidade média, tempo gasto na viagem, a distância percorrida e a quantidade de litros utilizada na viagem</p>"
   ]
  },
  {
   "cell_type": "code",
   "execution_count": null,
   "metadata": {},
   "outputs": [],
   "source": [
    "num1 = int(input('Digite um número inteiro: '))\n",
    "num2 = int(input('Digite um número inteiro: '))\n",
    "print(f\"A soma é : {num1 + num2}\")\n",
    "print(f\"A subtração é : {num1 - num2}\")\n",
    "print(f\"A multiplicação é: {num1 * num2}\")\n",
    "print(f\"A divisão é: {round(num1 / num2,2)}\")\n"
   ]
  },
  {
   "cell_type": "code",
   "execution_count": null,
   "metadata": {},
   "outputs": [],
   "source": [
    "tempo_gasto = int(input(\"Digite o tempo gasto em horas: \"))\n",
    "velocidade_media = int(input(\"Digite sua velocidade media em km\\h\"))\n",
    "\n",
    "distancia = tempo_gasto * velocidade_media\n",
    "litros_usados = distancia/12\n",
    "\n",
    "print(f\"Velociade média = {velocidade_media}\")\n",
    "print(f\"Tempo gasto na viagem = {tempo_gasto}\")\n",
    "print(f\"Distância percorrida = {distancia}\")\n",
    "print(f\"Quantidade de litros = {round(litros_usados,2)}\")"
   ]
  },
  {
   "cell_type": "markdown",
   "metadata": {},
   "source": [
    "# <h3>Exercicio 2</h3>"
   ]
  },
  {
   "cell_type": "markdown",
   "metadata": {},
   "source": [
    "<p>1)Leia a idade do usuário e classifique-o em:\n",
    "    <ol>\n",
    "        <li>Criança – 0 a 12 anos</li>\n",
    "        <li>Adolescente – 13 a 17 anos</li>\n",
    "        <li>Adulto – acima de 18 anos</li>\n",
    "    </ol>\n",
    "\n",
    "   Se o usuário digitar um número negativo, mostrar a mensagem que a idade é inválida \n",
    " </p>\n",
    "\n",
    "<p>2)Calcular a média de um aluno que cursou a disciplina de Programação I, a partir da leitura das notas M1, M2 e M3; passando por um cálculo da média aritmética. Após a média calculada, devemos anunciar se o aluno foi aprovado, reprovado ou pegou exame\n",
    "- Se a média estiver entre 0.0 e 4.0, o aluno está reprovado\n",
    "- Se a média estiver entre 4.1 e 6.0, o aluno pegou exame\n",
    "- Se a média for maior do que 6.0, o aluno está aprovado\n",
    "- Se o aluno pegou exame, deve ser lida a nota do exame. Se a nota do exame for maior do que 6.0, está aprovado, senão; está reprovado</p>"
   ]
  },
  {
   "cell_type": "code",
   "execution_count": null,
   "metadata": {},
   "outputs": [],
   "source": [
    "sua_idade  = int (input(\"Digite sua idade: \"))\n",
    "\n",
    "if sua_idade < 0:\n",
    "    print(\"Idade fornecida é invalida\")\n",
    "elif (sua_idade > 0 and sua_idade <= 12):\n",
    "    print(\"Criança\")\n",
    "elif (sua_idade > 12 and sua_idade <=17):\n",
    "    print(\"Adolecente\")\n",
    "elif(sua_idade >= 18):\n",
    "    print(\"Adulto\")"
   ]
  },
  {
   "cell_type": "code",
   "execution_count": null,
   "metadata": {},
   "outputs": [],
   "source": [
    "m1 = float(input(\"Digite a nota 1: \"))\n",
    "m2 = float(input(\"Digite a nota 2: \"))\n",
    "m3 = float(input(\"Digite a nota 3: \"))\n",
    "\n",
    "if(m1<0 or m2<0 or m3<0):\n",
    "    print(\"nota invalida\")\n",
    "aluno_pegou_o_exame = False\n",
    "media_aritmética = (m1+m2+m3)/3\n",
    "\n",
    "if(media_aritmética >=0 and media_aritmética <=4):\n",
    "    print(\"Reprovado\")\n",
    "elif(media_aritmética>=4.1 and media_aritmética<=6):\n",
    "    aluno_pegou_o_exame = True\n",
    "    print(\"Aluno pegou Exame\")\n",
    "elif(media_aritmética > 6):\n",
    "    print(\"Aprovado\")\n",
    "    \n",
    "if(aluno_pegou_o_exame):\n",
    "    nota_do_exame = float(input(\"Digite a nota do exame: \"))\n",
    "    if(nota_do_exame>=6):\n",
    "        print(\"Aprovado\")\n",
    "    else:\n",
    "        print(\"Reprovado\")\n",
    "    \n"
   ]
  },
  {
   "cell_type": "markdown",
   "metadata": {},
   "source": [
    "# <h3>Exercicio 3</h3>"
   ]
  },
  {
   "cell_type": "markdown",
   "metadata": {},
   "source": [
    "<p>1) Ler 5 notas e informar a média</p>\n",
    "\n",
    "<p>2) Imprimir a tabuada do número 3 (3 x 1 = 1 - 3 x 10 = 30)</p>"
   ]
  },
  {
   "cell_type": "code",
   "execution_count": 13,
   "metadata": {},
   "outputs": [
    {
     "name": "stdin",
     "output_type": "stream",
     "text": [
      "Digite a nota 1°:  1\n",
      "Digite a nota 2°:  2\n",
      "Digite a nota 3°:  3\n",
      "Digite a nota 4°:  4\n",
      "Digite a nota 5°:  5\n"
     ]
    },
    {
     "name": "stdout",
     "output_type": "stream",
     "text": [
      "A média das notas é: 3.0\n"
     ]
    }
   ],
   "source": [
    "cont = 1\n",
    "soma = 0\n",
    "while(cont < 6):\n",
    "    nota = float(input(f\"Digite a nota {cont}°: \"))\n",
    "    if(nota >= 0):\n",
    "        soma =  soma + nota\n",
    "        cont = cont +1\n",
    "    else:\n",
    "        print(\"Digite um valor acima de 0\")\n",
    "        \n",
    "print(f\"A média das notas é: {soma/(cont-1)}\")"
   ]
  },
  {
   "cell_type": "code",
   "execution_count": 11,
   "metadata": {},
   "outputs": [
    {
     "name": "stdout",
     "output_type": "stream",
     "text": [
      "\tTabuada\n",
      "\n"
     ]
    },
    {
     "name": "stdin",
     "output_type": "stream",
     "text": [
      "Digite o multiplicador:  8\n"
     ]
    },
    {
     "name": "stdout",
     "output_type": "stream",
     "text": [
      "0 x 8 = 0\n",
      "1 x 8 = 8\n",
      "2 x 8 = 16\n",
      "3 x 8 = 24\n",
      "4 x 8 = 32\n",
      "5 x 8 = 40\n",
      "6 x 8 = 48\n",
      "7 x 8 = 56\n",
      "8 x 8 = 64\n",
      "9 x 8 = 72\n",
      "10 x 8 = 80\n"
     ]
    }
   ],
   "source": [
    "print(\"\\tTabuada\\n\")\n",
    "multiplicador = int(input(\"Digite o multiplicador: \"))\n",
    "\n",
    "for numeral in range(11):\n",
    "    print(f\"{numeral} x {multiplicador} = {numeral*multiplicador}\")"
   ]
  }
 ],
 "metadata": {
  "kernelspec": {
   "display_name": "Python 3",
   "language": "python",
   "name": "python3"
  },
  "language_info": {
   "codemirror_mode": {
    "name": "ipython",
    "version": 3
   },
   "file_extension": ".py",
   "mimetype": "text/x-python",
   "name": "python",
   "nbconvert_exporter": "python",
   "pygments_lexer": "ipython3",
   "version": "3.7.3"
  }
 },
 "nbformat": 4,
 "nbformat_minor": 4
}
